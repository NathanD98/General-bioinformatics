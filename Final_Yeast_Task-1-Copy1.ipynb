{
 "cells": [
  {
   "cell_type": "markdown",
   "metadata": {},
   "source": [
    "Yeast codon task - Bioinformatics Task 1\n",
    "\n",
    "Element 1 : Read and interpret a fasta file containing coding sequences from this yeast genome. You must do this within some constraints. The file must be processed line by line. You cannot use any special bioinformatics or data analysis software. You must tabulate the genomic features of gene length in nucleotides and amino acids. Report any discrepancies (e.g. partial codons). You should also report the count of coding direction for all the genes (something like... coding 1021; complement 575; total genes 1596).\n",
    "\n",
    "This element has 9 marks associated with it (6 conceptual, 3 implementation) – namely, is the file opened correctly and is each entry processed into manageable data (i.e. the required data components are stored somewhere useful like a list) and is the file correctly handled (e.g. processed line by line)."
   ]
  },
  {
   "cell_type": "code",
   "execution_count": 1,
   "metadata": {},
   "outputs": [],
   "source": [
    "#import the libraries that we need \n",
    "\n",
    "import numpy as np \n",
    "import re\n",
    "import seaborn as sns\n",
    "import plotly.graph_objects as go\n",
    "import plotly.express as px\n",
    "import csv\n",
    "\n",
    "\n",
    "#Create lists for storing the genetic information and the DNA sequence\n",
    "\n",
    "yeast_info = []\n",
    "dna_seq = ''\n",
    "\n",
    "#### Opening the fasta file and saving it to a variable\n",
    "\n",
    "\n",
    "with open('yeast_fasta_full', newline='') as fasta_file:\n",
    "    \n",
    "    #read the file line by line by looping\n",
    "    for line in fasta_file:\n",
    "    \n",
    "    \n",
    "        #seperate based wether data is genetic info or DNA, identified by a > at the start\n",
    "        if line[0] == '>':\n",
    "            \n",
    "            yeast_info.append(line)\n",
    "\n",
    "        # Collect and store the dna_sequence for processing                        \n",
    "            \n",
    "        else:\n",
    "            \n",
    "            if line[0] != '>':\n",
    "                \n",
    "                line = line.strip()   \n",
    "                dna_seq += line\n",
    "                \n",
    "            else:\n",
    "                \n",
    "                dna_seq =''    "
   ]
  },
  {
   "cell_type": "markdown",
   "metadata": {},
   "source": [
    "You should also report the count of coding direction for all the genes (something like... coding 1021; complement 575; total genes 1596)."
   ]
  },
  {
   "cell_type": "code",
   "execution_count": 2,
   "metadata": {},
   "outputs": [
    {
     "name": "stdout",
     "output_type": "stream",
     "text": [
      "Table to show the number of nucleotides, amino acids and partial codons of the yeast genome\n",
      "\n",
      "Nucleotide number       |460887\t\n",
      "Number of Amino acids   |153629\t\n",
      "Number of partial codons|0\t\n",
      "\n",
      "Table to show the number of different coding direction of the yeast genome\n",
      "\n",
      "Count of coding genes    |156\t\n",
      "Count of complement genes|169\t\n",
      "Count of intron genes    |6\t\n",
      "Count of total genes     |331\t\n",
      "\n",
      "Table for Genetic information\n",
      "\n",
      "Nucleotide number|Number of Amino acids|Number of partial codons\n",
      "\n",
      "460887           |153629               |0                      \n",
      "\n",
      "\n",
      "Table for Coding direction information\n",
      "\n",
      "Nucleotide number|Number of Amino acids|Number of partial codons\n",
      "\n",
      "460887           |153629               |0                      \n",
      "\n"
     ]
    }
   ],
   "source": [
    "#count the occurence of keywords for genetic information (complement, intro(join)) in the string\n",
    "count_intron = 0 \n",
    "count_complement = 0 \n",
    "count_total = 0 \n",
    "\n",
    "#find the keywords using re\n",
    "\n",
    "find_comp = re.findall(r'complement', str(yeast_info))\n",
    "for match in find_comp:\n",
    "    count_complement = count_complement + 1\n",
    "    \n",
    "find_intron = re.findall(r'join', str(yeast_info))\n",
    "for match in find_intron:\n",
    "    count_intron = count_intron + 1\n",
    "    \n",
    "find_all = re.findall(r'location', str(yeast_info))\n",
    "for match in find_all:\n",
    "    count_total = count_total + 1\n",
    "\n",
    "#we cant search for coding segement so we wil find all the locations and then minus the two others. \n",
    "\n",
    "count_coding = count_total - (count_intron + count_complement)\n",
    "\n",
    "#count the total amount of nucleotides, amino acids and check for partial codons. \n",
    "\n",
    "length_aa = (len(dna_seq) // 3)\n",
    "partial_codons = (len(dna_seq) % 3)\n",
    "nucleotide_len = (len(dna_seq))\n",
    "\n",
    "\n",
    "#write the function for tabulating data\n",
    "\n",
    "def tabulate(name, data, table_name):\n",
    "    \n",
    "    print(table_name)\n",
    "    for title, region in zip(name, data):\n",
    "        \n",
    "        print(\"{}|{}\\t\".format (title, (region)))\n",
    "        \n",
    "\n",
    "\n",
    "#Tabulaute the data for the coding direction, making the name, data, table_name\n",
    "\n",
    "regions_list = [count_coding, count_complement, count_intron, count_total]\n",
    "\n",
    "dir_names_list = ['Count of coding genes    ', 'Count of complement genes', 'Count of intron genes    ', 'Count of total genes     ']\n",
    "\n",
    "codingdir_table_name = 'Table to show the number of different coding direction of the yeast genome\\n'\n",
    "\n",
    "\n",
    "\n",
    "#Tabulate the data for nucleotide length and partial codons, making the name, data, table_name \n",
    "\n",
    "gene_info = [nucleotide_len, length_aa, partial_codons]\n",
    "\n",
    "gene_info_name_list = ['Nucleotide number       ', 'Number of Amino acids   ', 'Number of partial codons']\n",
    "\n",
    "gene_name = 'Table to show the number of nucleotides, amino acids and partial codons of the yeast genome\\n'\n",
    "        \n",
    "# print out the data in a table format \n",
    "        \n",
    "tabulate(gene_info_name_list, gene_info, gene_name)\n",
    "\n",
    "print('')\n",
    "tabulate(dir_names_list, regions_list, codingdir_table_name) \n",
    "\n",
    "#save the tabulated data to a csv file \n",
    "print('')\n",
    "\n",
    "\n",
    "#save the tabulated data to a file \n",
    "\n",
    "with open('Gene_Info_Yeast_1_NDS.txt', 'w', newline='') as Outf:\n",
    "    writer = csv.writer(Outf)\n",
    "    data_list = [['Nucleotide number', 'Number of Amino acids', 'Number of partial codons'], \n",
    "                 ['460887           ', '153629               ', '0                      ']]\n",
    "    writer = csv.writer(Outf)\n",
    "    Outf.write('Table for Genetic information\\n')\n",
    "    writer = csv.writer(Outf, delimiter='|')\n",
    "    writer.writerows(data_list)\n",
    "\n",
    "\n",
    "with open('Gene_Info_Yeast_1_NDS.txt', 'r') as filer:\n",
    "    for line in filer:\n",
    "        print(line)\n",
    "\n",
    "Outf.close()\n",
    "filer.close()\n",
    "\n",
    "print('')\n",
    "\n",
    "\n",
    "#save the tabulated data to a file \n",
    "\n",
    "with open('Coding_Info_Yeast_1_NDS.txt', 'w', newline='') as C_Outf:\n",
    "    C_writer = csv.writer(C_Outf)\n",
    "    C_data_list = [['Nucleotide number', 'Number of Amino acids', 'Number of partial codons'], \n",
    "                 ['460887           ', '153629               ', '0                      ']]\n",
    "    C_writer = csv.writer(C_Outf)\n",
    "    C_Outf.write('Table for Coding direction information\\n')\n",
    "    C_writer = csv.writer(C_Outf, delimiter='|')\n",
    "    C_writer.writerows(data_list)\n",
    "\n",
    "\n",
    "with open('Coding_Info_Yeast_1_NDS.txt', 'r') as C_filer:\n",
    "    for line in C_filer:\n",
    "        print(line)\n",
    "\n",
    "C_Outf.close()\n",
    "C_filer.close()\n"
   ]
  },
  {
   "cell_type": "markdown",
   "metadata": {},
   "source": [
    "You must tabulate the genomic features of gene length in nucleotides and amino acids. Report any discrepancies (e.g. partial codons)"
   ]
  },
  {
   "cell_type": "markdown",
   "metadata": {},
   "source": [
    "Element 2 –  Tabulate and report the total occurrence of all encoded serine and leucine amino acids.\n",
    "This element has 4 marks associated with it (2 conceptual, 2 implementation).\n"
   ]
  },
  {
   "cell_type": "code",
   "execution_count": 3,
   "metadata": {},
   "outputs": [
    {
     "name": "stdout",
     "output_type": "stream",
     "text": [
      "Table to show the amount of encoded Serines and Leucines\n",
      "\n",
      "Serine |12570\t\n",
      "Leucine|14232\t\n",
      "Shared |1767\t\n",
      "\n",
      "Table to show the amount of encoded Serines and Leucines\n",
      "\n",
      "Serine|Leucine|Shared \n",
      "\n",
      "12570 |14232  |1767   \n",
      "\n"
     ]
    }
   ],
   "source": [
    "#Note down all the codons that code for the amino acids Serine and Leucine\n",
    "\n",
    "leucine_codonsRNA = ('UUA', 'UUG', 'CUU', 'CUC', 'CUA')\n",
    "serine_codonsRNA = ('UCU', 'UCC', 'UCA', 'UCG', 'AGU', 'AGC')\n",
    "shared_codonRNA = ('CUG')\n",
    "\n",
    "#we have a sequence given in DNA so we will convert the U' to T's.\n",
    "\n",
    "shared_codon = ('CTG')\n",
    "serine_codons = ('TCT', 'TCC', 'TCA', 'TCG', 'AGT', 'AGC')\n",
    "leucine_codons = ('TTA', 'TTG', 'CTT', 'CTC', 'CTA')\n",
    "\n",
    "#count the amount of leucines \n",
    "\n",
    "l_counter = 0\n",
    "amino = [dna_seq[i:i+3] for i in range(0, len(dna_seq), 3)]\n",
    "for base in amino:\n",
    "        \n",
    "    if base == 'TTA' or base =='TTG' or base == 'CTA' or base == 'CTC' or base =='CTT':\n",
    "            \n",
    "        l_counter = l_counter + 1 \n",
    "    \n",
    "    \n",
    "#count the amount of serines\n",
    "\n",
    "s_counter = 0\n",
    "amino = [dna_seq[i:i+3] for i in range(0, len(dna_seq), 3)]\n",
    "for base in amino:\n",
    "        \n",
    "    if base == 'TCT' or base =='TCC' or base == 'TCA' or base == 'AGT' or base =='TCG' or base == 'AGC':\n",
    "            \n",
    "        s_counter = s_counter + 1\n",
    "\n",
    "\n",
    "\n",
    "#count the shared codon \n",
    "\n",
    "shared_counter = 0\n",
    "amino = [dna_seq[i:i+3] for i in range(0, len(dna_seq), 3)]\n",
    "for base in amino:\n",
    "        \n",
    "    if base == 'CTG':\n",
    "            \n",
    "        shared_counter = shared_counter + 1\n",
    " \n",
    "\n",
    "# Generate lists containing data needed for tables\n",
    "\n",
    "amino_acid_data = [s_counter, l_counter, shared_counter]\n",
    "\n",
    "aa_names = ['Serine ', 'Leucine', 'Shared ']\n",
    "aa_table_name = 'Table to show the amount of encoded Serines and Leucines\\n'\n",
    "\n",
    "#Tabulaute the data\n",
    "# def tablulate(name, data, table_name):\n",
    "\n",
    "tabulate(aa_names, amino_acid_data, aa_table_name)\n",
    "print('')\n",
    "\n",
    "\n",
    "#save the tabulated data to a file \n",
    "\n",
    "with open('AminoAcid_Info_Yeast_1_NDS.txt', 'w', newline='') as AA_Outf:\n",
    "    AA_writer = csv.writer(AA_Outf)\n",
    "    aa_data_list = [['Serine', 'Leucine', 'Shared '], \n",
    "                    ['12570 ', '14232  ', '1767   ']]\n",
    "    AA_writer = csv.writer(AA_Outf)\n",
    "    AA_Outf.write('Table to show the amount of encoded Serines and Leucines\\n')\n",
    "    AA_writer = csv.writer(AA_Outf, delimiter='|')\n",
    "    AA_writer.writerows(aa_data_list)\n",
    "\n",
    "\n",
    "with open('AminoAcid_Info_Yeast_1_NDS.txt', 'r') as AA_filer:\n",
    "    for line in AA_filer:\n",
    "        print(line)\n",
    "\n",
    "AA_Outf.close()\n",
    "AA_filer.close()\n"
   ]
  },
  {
   "cell_type": "markdown",
   "metadata": {},
   "source": [
    "Element 3 – Make a plot that compares the frequency of CUG to the other codons of serine and leucine. What are some plausible biological arguments for differences in codon frequency? Suggest one additional analysis that either addresses CUG usage or something else you observed from these exercises.\n",
    "This element has 7 marks associated with it (5 conceptual, 2 implementation)\n"
   ]
  },
  {
   "cell_type": "code",
   "execution_count": 4,
   "metadata": {},
   "outputs": [
    {
     "data": {
      "text/plain": [
       "array([0.01150173, 0.01658541, 0.01277103, 0.01322016, 0.01661145,\n",
       "       0.00943832, 0.01319412, 0.00969218, 0.03806573, 0.01880504,\n",
       "       0.01805649, 0.00801932])"
      ]
     },
     "execution_count": 4,
     "metadata": {},
     "output_type": "execute_result"
    }
   ],
   "source": [
    "#lets remind ourelves of the bases we are looking for\n",
    "\n",
    "shared_codon = ('CTG')\n",
    "serine_codons = ('TCT', 'TCC', 'TCA', 'TCG', 'AGT', 'AGC')\n",
    "leucine_codons = ('TTA', 'TTG', 'CTT', 'CTC', 'CTA')\n",
    "\n",
    "#shared codon \n",
    "    \n",
    "freq_ctg = 0\n",
    "\n",
    "#serine codon \n",
    "    \n",
    "freq_tct = 0\n",
    "freq_tcc = 0\n",
    "freq_tca = 0\n",
    "freq_tcg = 0\n",
    "freq_agt = 0\n",
    "freq_agc = 0\n",
    "    \n",
    "#leucine codons \n",
    "\n",
    "freq_tta = 0\n",
    "freq_ttg = 0\n",
    "freq_ctt = 0\n",
    "freq_ctc = 0\n",
    "freq_cta = 0\n",
    "\n",
    "amino = [dna_seq[i:i+3] for i in range(0, len(dna_seq), 3)]\n",
    "for base in amino:\n",
    "    \n",
    "    if base == 'CTG':\n",
    "                \n",
    "        freq_ctg += 1\n",
    "                \n",
    "    elif base == 'TCT':\n",
    "        \n",
    "        freq_tct += 1\n",
    "    elif base == 'TCC':\n",
    "        \n",
    "        freq_tcc +=1 \n",
    "    elif base == 'TCA':\n",
    "        \n",
    "        freq_tca +=1\n",
    "    elif base == 'TCG':\n",
    "        \n",
    "        freq_tcg +=1\n",
    "    elif base == 'AGT':\n",
    "        \n",
    "        freq_agt +=1\n",
    "    elif base == 'AGC':\n",
    "        \n",
    "        freq_agc +=1\n",
    "            \n",
    "#leucine codons now \n",
    "    elif base == 'TTA':\n",
    "        \n",
    "        freq_tta +=1\n",
    "    elif base == 'TTG':\n",
    "        \n",
    "        freq_ttg += 1\n",
    "    elif base == 'CTT':\n",
    "        \n",
    "        freq_ctt +=1\n",
    "    elif base == 'CTC':\n",
    "        \n",
    "        freq_ctc +=1\n",
    "    elif base == 'CTA':\n",
    "        \n",
    "        freq_cta +=1\n",
    "\n",
    "        \n",
    "# gather together the data for plotting\n",
    "all_codon_plot = (freq_ctg, freq_tct, freq_tcc, freq_tca, freq_tcg, freq_agt, freq_agc, freq_tta, freq_ttg,\n",
    "          freq_ctt, freq_ctc, freq_cta  )           \n",
    "\n",
    "#turn the data into arrays for processing\n",
    "all_codon_array = np.array(all_codon_plot)\n",
    "string_codons = 'CTG','TCT', 'TCC', 'TCA', 'TCG', 'AGT', 'AGC', 'TTA', 'TTG', 'CTT', 'CTC', 'CTA'\n",
    "codon_ord_list = np.array(string_codons)\n",
    "\n",
    "#join data into one array\n",
    "joined_data = (all_codon_array, codon_ord_list)\n",
    "\n",
    "#working out percentage of codon in total amino acid length \n",
    "percentage_freqs = (all_codon_array / length_aa)\n",
    "percentage_freqs"
   ]
  },
  {
   "cell_type": "code",
   "execution_count": 17,
   "metadata": {},
   "outputs": [
    {
     "data": {
      "application/vnd.plotly.v1+json": {
       "config": {
        "plotlyServerURL": "https://plot.ly"
       },
       "data": [
        {
         "hovertemplate": "color=CTG<br>x=%{x}<br>y=%{y}<br>size=%{marker.size}<extra></extra>",
         "legendgroup": "CTG",
         "marker": {
          "color": "#636efa",
          "size": [
           2
          ],
          "sizemode": "area",
          "sizeref": 0.005,
          "symbol": "circle"
         },
         "mode": "markers",
         "name": "CTG",
         "orientation": "v",
         "showlegend": true,
         "type": "scatter",
         "x": [
          "CTG"
         ],
         "xaxis": "x",
         "y": [
          0.01150173469852697
         ],
         "yaxis": "y"
        },
        {
         "hovertemplate": "color=TCT<br>x=%{x}<br>y=%{y}<br>size=%{marker.size}<extra></extra>",
         "legendgroup": "TCT",
         "marker": {
          "color": "#EF553B",
          "size": [
           2
          ],
          "sizemode": "area",
          "sizeref": 0.005,
          "symbol": "circle"
         },
         "mode": "markers",
         "name": "TCT",
         "orientation": "v",
         "showlegend": true,
         "type": "scatter",
         "x": [
          "TCT"
         ],
         "xaxis": "x",
         "y": [
          0.016585410306647834
         ],
         "yaxis": "y"
        },
        {
         "hovertemplate": "color=TCC<br>x=%{x}<br>y=%{y}<br>size=%{marker.size}<extra></extra>",
         "legendgroup": "TCC",
         "marker": {
          "color": "#00cc96",
          "size": [
           2
          ],
          "sizemode": "area",
          "sizeref": 0.005,
          "symbol": "circle"
         },
         "mode": "markers",
         "name": "TCC",
         "orientation": "v",
         "showlegend": true,
         "type": "scatter",
         "x": [
          "TCC"
         ],
         "xaxis": "x",
         "y": [
          0.01277102630362757
         ],
         "yaxis": "y"
        },
        {
         "hovertemplate": "color=TCA<br>x=%{x}<br>y=%{y}<br>size=%{marker.size}<extra></extra>",
         "legendgroup": "TCA",
         "marker": {
          "color": "#ab63fa",
          "size": [
           2
          ],
          "sizemode": "area",
          "sizeref": 0.005,
          "symbol": "circle"
         },
         "mode": "markers",
         "name": "TCA",
         "orientation": "v",
         "showlegend": true,
         "type": "scatter",
         "x": [
          "TCA"
         ],
         "xaxis": "x",
         "y": [
          0.01322016025620163
         ],
         "yaxis": "y"
        },
        {
         "hovertemplate": "color=TCG<br>x=%{x}<br>y=%{y}<br>size=%{marker.size}<extra></extra>",
         "legendgroup": "TCG",
         "marker": {
          "color": "#FFA15A",
          "size": [
           2
          ],
          "sizemode": "area",
          "sizeref": 0.005,
          "symbol": "circle"
         },
         "mode": "markers",
         "name": "TCG",
         "orientation": "v",
         "showlegend": true,
         "type": "scatter",
         "x": [
          "TCG"
         ],
         "xaxis": "x",
         "y": [
          0.01661144705752169
         ],
         "yaxis": "y"
        },
        {
         "hovertemplate": "color=AGT<br>x=%{x}<br>y=%{y}<br>size=%{marker.size}<extra></extra>",
         "legendgroup": "AGT",
         "marker": {
          "color": "#19d3f3",
          "size": [
           2
          ],
          "sizemode": "area",
          "sizeref": 0.005,
          "symbol": "circle"
         },
         "mode": "markers",
         "name": "AGT",
         "orientation": "v",
         "showlegend": true,
         "type": "scatter",
         "x": [
          "AGT"
         ],
         "xaxis": "x",
         "y": [
          0.009438322191773688
         ],
         "yaxis": "y"
        },
        {
         "hovertemplate": "color=AGC<br>x=%{x}<br>y=%{y}<br>size=%{marker.size}<extra></extra>",
         "legendgroup": "AGC",
         "marker": {
          "color": "#FF6692",
          "size": [
           2
          ],
          "sizemode": "area",
          "sizeref": 0.005,
          "symbol": "circle"
         },
         "mode": "markers",
         "name": "AGC",
         "orientation": "v",
         "showlegend": true,
         "type": "scatter",
         "x": [
          "AGC"
         ],
         "xaxis": "x",
         "y": [
          0.01319412350532777
         ],
         "yaxis": "y"
        },
        {
         "hovertemplate": "color=TTA<br>x=%{x}<br>y=%{y}<br>size=%{marker.size}<extra></extra>",
         "legendgroup": "TTA",
         "marker": {
          "color": "#B6E880",
          "size": [
           2
          ],
          "sizemode": "area",
          "sizeref": 0.005,
          "symbol": "circle"
         },
         "mode": "markers",
         "name": "TTA",
         "orientation": "v",
         "showlegend": true,
         "type": "scatter",
         "x": [
          "TTA"
         ],
         "xaxis": "x",
         "y": [
          0.009692180512793809
         ],
         "yaxis": "y"
        },
        {
         "hovertemplate": "color=TTG<br>x=%{x}<br>y=%{y}<br>size=%{marker.size}<extra></extra>",
         "legendgroup": "TTG",
         "marker": {
          "color": "#FF97FF",
          "size": [
           2
          ],
          "sizemode": "area",
          "sizeref": 0.005,
          "symbol": "circle"
         },
         "mode": "markers",
         "name": "TTG",
         "orientation": "v",
         "showlegend": true,
         "type": "scatter",
         "x": [
          "TTG"
         ],
         "xaxis": "x",
         "y": [
          0.038065729777581055
         ],
         "yaxis": "y"
        },
        {
         "hovertemplate": "color=CTT<br>x=%{x}<br>y=%{y}<br>size=%{marker.size}<extra></extra>",
         "legendgroup": "CTT",
         "marker": {
          "color": "#FECB52",
          "size": [
           2
          ],
          "sizemode": "area",
          "sizeref": 0.005,
          "symbol": "circle"
         },
         "mode": "markers",
         "name": "CTT",
         "orientation": "v",
         "showlegend": true,
         "type": "scatter",
         "x": [
          "CTT"
         ],
         "xaxis": "x",
         "y": [
          0.018805043318644268
         ],
         "yaxis": "y"
        },
        {
         "hovertemplate": "color=CTC<br>x=%{x}<br>y=%{y}<br>size=%{marker.size}<extra></extra>",
         "legendgroup": "CTC",
         "marker": {
          "color": "#636efa",
          "size": [
           2
          ],
          "sizemode": "area",
          "sizeref": 0.005,
          "symbol": "circle"
         },
         "mode": "markers",
         "name": "CTC",
         "orientation": "v",
         "showlegend": true,
         "type": "scatter",
         "x": [
          "CTC"
         ],
         "xaxis": "x",
         "y": [
          0.018056486731020834
         ],
         "yaxis": "y"
        },
        {
         "hovertemplate": "color=CTA<br>x=%{x}<br>y=%{y}<br>size=%{marker.size}<extra></extra>",
         "legendgroup": "CTA",
         "marker": {
          "color": "#EF553B",
          "size": [
           2
          ],
          "sizemode": "area",
          "sizeref": 0.005,
          "symbol": "circle"
         },
         "mode": "markers",
         "name": "CTA",
         "orientation": "v",
         "showlegend": true,
         "type": "scatter",
         "x": [
          "CTA"
         ],
         "xaxis": "x",
         "y": [
          0.008019319269148404
         ],
         "yaxis": "y"
        },
        {
         "mode": "text",
         "text": [
          "Shared codon",
          "Serine codons",
          "Leucine codons"
         ],
         "type": "scatter",
         "x": [
          "CTG",
          "TCC",
          "TTG"
         ],
         "y": [
          0.05,
          0.05,
          0.05
         ]
        }
       ],
       "layout": {
        "legend": {
         "itemsizing": "constant",
         "title": {
          "text": "Codon"
         },
         "tracegroupgap": 0
        },
        "shapes": [
         {
          "line": {
           "color": "MediumPurple",
           "width": 3
          },
          "type": "line",
          "x0": 0.68,
          "x1": 0.68,
          "y0": 0,
          "y1": 0.055
         },
         {
          "line": {
           "color": "LightSeaGreen",
           "width": 3
          },
          "type": "line",
          "x0": 6.5,
          "x1": 6.5,
          "y0": 0,
          "y1": 0.055
         }
        ],
        "showlegend": true,
        "template": {
         "data": {
          "bar": [
           {
            "error_x": {
             "color": "#2a3f5f"
            },
            "error_y": {
             "color": "#2a3f5f"
            },
            "marker": {
             "line": {
              "color": "#E5ECF6",
              "width": 0.5
             }
            },
            "type": "bar"
           }
          ],
          "barpolar": [
           {
            "marker": {
             "line": {
              "color": "#E5ECF6",
              "width": 0.5
             }
            },
            "type": "barpolar"
           }
          ],
          "carpet": [
           {
            "aaxis": {
             "endlinecolor": "#2a3f5f",
             "gridcolor": "white",
             "linecolor": "white",
             "minorgridcolor": "white",
             "startlinecolor": "#2a3f5f"
            },
            "baxis": {
             "endlinecolor": "#2a3f5f",
             "gridcolor": "white",
             "linecolor": "white",
             "minorgridcolor": "white",
             "startlinecolor": "#2a3f5f"
            },
            "type": "carpet"
           }
          ],
          "choropleth": [
           {
            "colorbar": {
             "outlinewidth": 0,
             "ticks": ""
            },
            "type": "choropleth"
           }
          ],
          "contour": [
           {
            "colorbar": {
             "outlinewidth": 0,
             "ticks": ""
            },
            "colorscale": [
             [
              0,
              "#0d0887"
             ],
             [
              0.1111111111111111,
              "#46039f"
             ],
             [
              0.2222222222222222,
              "#7201a8"
             ],
             [
              0.3333333333333333,
              "#9c179e"
             ],
             [
              0.4444444444444444,
              "#bd3786"
             ],
             [
              0.5555555555555556,
              "#d8576b"
             ],
             [
              0.6666666666666666,
              "#ed7953"
             ],
             [
              0.7777777777777778,
              "#fb9f3a"
             ],
             [
              0.8888888888888888,
              "#fdca26"
             ],
             [
              1,
              "#f0f921"
             ]
            ],
            "type": "contour"
           }
          ],
          "contourcarpet": [
           {
            "colorbar": {
             "outlinewidth": 0,
             "ticks": ""
            },
            "type": "contourcarpet"
           }
          ],
          "heatmap": [
           {
            "colorbar": {
             "outlinewidth": 0,
             "ticks": ""
            },
            "colorscale": [
             [
              0,
              "#0d0887"
             ],
             [
              0.1111111111111111,
              "#46039f"
             ],
             [
              0.2222222222222222,
              "#7201a8"
             ],
             [
              0.3333333333333333,
              "#9c179e"
             ],
             [
              0.4444444444444444,
              "#bd3786"
             ],
             [
              0.5555555555555556,
              "#d8576b"
             ],
             [
              0.6666666666666666,
              "#ed7953"
             ],
             [
              0.7777777777777778,
              "#fb9f3a"
             ],
             [
              0.8888888888888888,
              "#fdca26"
             ],
             [
              1,
              "#f0f921"
             ]
            ],
            "type": "heatmap"
           }
          ],
          "heatmapgl": [
           {
            "colorbar": {
             "outlinewidth": 0,
             "ticks": ""
            },
            "colorscale": [
             [
              0,
              "#0d0887"
             ],
             [
              0.1111111111111111,
              "#46039f"
             ],
             [
              0.2222222222222222,
              "#7201a8"
             ],
             [
              0.3333333333333333,
              "#9c179e"
             ],
             [
              0.4444444444444444,
              "#bd3786"
             ],
             [
              0.5555555555555556,
              "#d8576b"
             ],
             [
              0.6666666666666666,
              "#ed7953"
             ],
             [
              0.7777777777777778,
              "#fb9f3a"
             ],
             [
              0.8888888888888888,
              "#fdca26"
             ],
             [
              1,
              "#f0f921"
             ]
            ],
            "type": "heatmapgl"
           }
          ],
          "histogram": [
           {
            "marker": {
             "colorbar": {
              "outlinewidth": 0,
              "ticks": ""
             }
            },
            "type": "histogram"
           }
          ],
          "histogram2d": [
           {
            "colorbar": {
             "outlinewidth": 0,
             "ticks": ""
            },
            "colorscale": [
             [
              0,
              "#0d0887"
             ],
             [
              0.1111111111111111,
              "#46039f"
             ],
             [
              0.2222222222222222,
              "#7201a8"
             ],
             [
              0.3333333333333333,
              "#9c179e"
             ],
             [
              0.4444444444444444,
              "#bd3786"
             ],
             [
              0.5555555555555556,
              "#d8576b"
             ],
             [
              0.6666666666666666,
              "#ed7953"
             ],
             [
              0.7777777777777778,
              "#fb9f3a"
             ],
             [
              0.8888888888888888,
              "#fdca26"
             ],
             [
              1,
              "#f0f921"
             ]
            ],
            "type": "histogram2d"
           }
          ],
          "histogram2dcontour": [
           {
            "colorbar": {
             "outlinewidth": 0,
             "ticks": ""
            },
            "colorscale": [
             [
              0,
              "#0d0887"
             ],
             [
              0.1111111111111111,
              "#46039f"
             ],
             [
              0.2222222222222222,
              "#7201a8"
             ],
             [
              0.3333333333333333,
              "#9c179e"
             ],
             [
              0.4444444444444444,
              "#bd3786"
             ],
             [
              0.5555555555555556,
              "#d8576b"
             ],
             [
              0.6666666666666666,
              "#ed7953"
             ],
             [
              0.7777777777777778,
              "#fb9f3a"
             ],
             [
              0.8888888888888888,
              "#fdca26"
             ],
             [
              1,
              "#f0f921"
             ]
            ],
            "type": "histogram2dcontour"
           }
          ],
          "mesh3d": [
           {
            "colorbar": {
             "outlinewidth": 0,
             "ticks": ""
            },
            "type": "mesh3d"
           }
          ],
          "parcoords": [
           {
            "line": {
             "colorbar": {
              "outlinewidth": 0,
              "ticks": ""
             }
            },
            "type": "parcoords"
           }
          ],
          "pie": [
           {
            "automargin": true,
            "type": "pie"
           }
          ],
          "scatter": [
           {
            "marker": {
             "colorbar": {
              "outlinewidth": 0,
              "ticks": ""
             }
            },
            "type": "scatter"
           }
          ],
          "scatter3d": [
           {
            "line": {
             "colorbar": {
              "outlinewidth": 0,
              "ticks": ""
             }
            },
            "marker": {
             "colorbar": {
              "outlinewidth": 0,
              "ticks": ""
             }
            },
            "type": "scatter3d"
           }
          ],
          "scattercarpet": [
           {
            "marker": {
             "colorbar": {
              "outlinewidth": 0,
              "ticks": ""
             }
            },
            "type": "scattercarpet"
           }
          ],
          "scattergeo": [
           {
            "marker": {
             "colorbar": {
              "outlinewidth": 0,
              "ticks": ""
             }
            },
            "type": "scattergeo"
           }
          ],
          "scattergl": [
           {
            "marker": {
             "colorbar": {
              "outlinewidth": 0,
              "ticks": ""
             }
            },
            "type": "scattergl"
           }
          ],
          "scattermapbox": [
           {
            "marker": {
             "colorbar": {
              "outlinewidth": 0,
              "ticks": ""
             }
            },
            "type": "scattermapbox"
           }
          ],
          "scatterpolar": [
           {
            "marker": {
             "colorbar": {
              "outlinewidth": 0,
              "ticks": ""
             }
            },
            "type": "scatterpolar"
           }
          ],
          "scatterpolargl": [
           {
            "marker": {
             "colorbar": {
              "outlinewidth": 0,
              "ticks": ""
             }
            },
            "type": "scatterpolargl"
           }
          ],
          "scatterternary": [
           {
            "marker": {
             "colorbar": {
              "outlinewidth": 0,
              "ticks": ""
             }
            },
            "type": "scatterternary"
           }
          ],
          "surface": [
           {
            "colorbar": {
             "outlinewidth": 0,
             "ticks": ""
            },
            "colorscale": [
             [
              0,
              "#0d0887"
             ],
             [
              0.1111111111111111,
              "#46039f"
             ],
             [
              0.2222222222222222,
              "#7201a8"
             ],
             [
              0.3333333333333333,
              "#9c179e"
             ],
             [
              0.4444444444444444,
              "#bd3786"
             ],
             [
              0.5555555555555556,
              "#d8576b"
             ],
             [
              0.6666666666666666,
              "#ed7953"
             ],
             [
              0.7777777777777778,
              "#fb9f3a"
             ],
             [
              0.8888888888888888,
              "#fdca26"
             ],
             [
              1,
              "#f0f921"
             ]
            ],
            "type": "surface"
           }
          ],
          "table": [
           {
            "cells": {
             "fill": {
              "color": "#EBF0F8"
             },
             "line": {
              "color": "white"
             }
            },
            "header": {
             "fill": {
              "color": "#C8D4E3"
             },
             "line": {
              "color": "white"
             }
            },
            "type": "table"
           }
          ]
         },
         "layout": {
          "annotationdefaults": {
           "arrowcolor": "#2a3f5f",
           "arrowhead": 0,
           "arrowwidth": 1
          },
          "coloraxis": {
           "colorbar": {
            "outlinewidth": 0,
            "ticks": ""
           }
          },
          "colorscale": {
           "diverging": [
            [
             0,
             "#8e0152"
            ],
            [
             0.1,
             "#c51b7d"
            ],
            [
             0.2,
             "#de77ae"
            ],
            [
             0.3,
             "#f1b6da"
            ],
            [
             0.4,
             "#fde0ef"
            ],
            [
             0.5,
             "#f7f7f7"
            ],
            [
             0.6,
             "#e6f5d0"
            ],
            [
             0.7,
             "#b8e186"
            ],
            [
             0.8,
             "#7fbc41"
            ],
            [
             0.9,
             "#4d9221"
            ],
            [
             1,
             "#276419"
            ]
           ],
           "sequential": [
            [
             0,
             "#0d0887"
            ],
            [
             0.1111111111111111,
             "#46039f"
            ],
            [
             0.2222222222222222,
             "#7201a8"
            ],
            [
             0.3333333333333333,
             "#9c179e"
            ],
            [
             0.4444444444444444,
             "#bd3786"
            ],
            [
             0.5555555555555556,
             "#d8576b"
            ],
            [
             0.6666666666666666,
             "#ed7953"
            ],
            [
             0.7777777777777778,
             "#fb9f3a"
            ],
            [
             0.8888888888888888,
             "#fdca26"
            ],
            [
             1,
             "#f0f921"
            ]
           ],
           "sequentialminus": [
            [
             0,
             "#0d0887"
            ],
            [
             0.1111111111111111,
             "#46039f"
            ],
            [
             0.2222222222222222,
             "#7201a8"
            ],
            [
             0.3333333333333333,
             "#9c179e"
            ],
            [
             0.4444444444444444,
             "#bd3786"
            ],
            [
             0.5555555555555556,
             "#d8576b"
            ],
            [
             0.6666666666666666,
             "#ed7953"
            ],
            [
             0.7777777777777778,
             "#fb9f3a"
            ],
            [
             0.8888888888888888,
             "#fdca26"
            ],
            [
             1,
             "#f0f921"
            ]
           ]
          },
          "colorway": [
           "#636efa",
           "#EF553B",
           "#00cc96",
           "#ab63fa",
           "#FFA15A",
           "#19d3f3",
           "#FF6692",
           "#B6E880",
           "#FF97FF",
           "#FECB52"
          ],
          "font": {
           "color": "#2a3f5f"
          },
          "geo": {
           "bgcolor": "white",
           "lakecolor": "white",
           "landcolor": "#E5ECF6",
           "showlakes": true,
           "showland": true,
           "subunitcolor": "white"
          },
          "hoverlabel": {
           "align": "left"
          },
          "hovermode": "closest",
          "mapbox": {
           "style": "light"
          },
          "paper_bgcolor": "white",
          "plot_bgcolor": "#E5ECF6",
          "polar": {
           "angularaxis": {
            "gridcolor": "white",
            "linecolor": "white",
            "ticks": ""
           },
           "bgcolor": "#E5ECF6",
           "radialaxis": {
            "gridcolor": "white",
            "linecolor": "white",
            "ticks": ""
           }
          },
          "scene": {
           "xaxis": {
            "backgroundcolor": "#E5ECF6",
            "gridcolor": "white",
            "gridwidth": 2,
            "linecolor": "white",
            "showbackground": true,
            "ticks": "",
            "zerolinecolor": "white"
           },
           "yaxis": {
            "backgroundcolor": "#E5ECF6",
            "gridcolor": "white",
            "gridwidth": 2,
            "linecolor": "white",
            "showbackground": true,
            "ticks": "",
            "zerolinecolor": "white"
           },
           "zaxis": {
            "backgroundcolor": "#E5ECF6",
            "gridcolor": "white",
            "gridwidth": 2,
            "linecolor": "white",
            "showbackground": true,
            "ticks": "",
            "zerolinecolor": "white"
           }
          },
          "shapedefaults": {
           "line": {
            "color": "#2a3f5f"
           }
          },
          "ternary": {
           "aaxis": {
            "gridcolor": "white",
            "linecolor": "white",
            "ticks": ""
           },
           "baxis": {
            "gridcolor": "white",
            "linecolor": "white",
            "ticks": ""
           },
           "bgcolor": "#E5ECF6",
           "caxis": {
            "gridcolor": "white",
            "linecolor": "white",
            "ticks": ""
           }
          },
          "title": {
           "x": 0.05
          },
          "xaxis": {
           "automargin": true,
           "gridcolor": "white",
           "linecolor": "white",
           "ticks": "",
           "title": {
            "standoff": 15
           },
           "zerolinecolor": "white",
           "zerolinewidth": 2
          },
          "yaxis": {
           "automargin": true,
           "gridcolor": "white",
           "linecolor": "white",
           "ticks": "",
           "title": {
            "standoff": 15
           },
           "zerolinecolor": "white",
           "zerolinewidth": 2
          }
         }
        },
        "title": {
         "text": "Graph to show the frequency of codons used for Serine and Leucines in a Yeast genome"
        },
        "xaxis": {
         "anchor": "y",
         "domain": [
          0,
          1
         ],
         "title": {
          "text": "Codon base in Yeast genes"
         },
         "type": "category"
        },
        "yaxis": {
         "anchor": "x",
         "domain": [
          0,
          1
         ],
         "title": {
          "text": "Frequency of codon againist total codons %"
         }
        }
       }
      },
      "text/html": [
       "<div>                            <div id=\"395c7c47-f5df-4aec-8ed1-c65284099b30\" class=\"plotly-graph-div\" style=\"height:525px; width:100%;\"></div>            <script type=\"text/javascript\">                require([\"plotly\"], function(Plotly) {                    window.PLOTLYENV=window.PLOTLYENV || {};                                    if (document.getElementById(\"395c7c47-f5df-4aec-8ed1-c65284099b30\")) {                    Plotly.newPlot(                        \"395c7c47-f5df-4aec-8ed1-c65284099b30\",                        [{\"hovertemplate\": \"color=CTG<br>x=%{x}<br>y=%{y}<br>size=%{marker.size}<extra></extra>\", \"legendgroup\": \"CTG\", \"marker\": {\"color\": \"#636efa\", \"size\": [2], \"sizemode\": \"area\", \"sizeref\": 0.005, \"symbol\": \"circle\"}, \"mode\": \"markers\", \"name\": \"CTG\", \"orientation\": \"v\", \"showlegend\": true, \"type\": \"scatter\", \"x\": [\"CTG\"], \"xaxis\": \"x\", \"y\": [0.01150173469852697], \"yaxis\": \"y\"}, {\"hovertemplate\": \"color=TCT<br>x=%{x}<br>y=%{y}<br>size=%{marker.size}<extra></extra>\", \"legendgroup\": \"TCT\", \"marker\": {\"color\": \"#EF553B\", \"size\": [2], \"sizemode\": \"area\", \"sizeref\": 0.005, \"symbol\": \"circle\"}, \"mode\": \"markers\", \"name\": \"TCT\", \"orientation\": \"v\", \"showlegend\": true, \"type\": \"scatter\", \"x\": [\"TCT\"], \"xaxis\": \"x\", \"y\": [0.016585410306647834], \"yaxis\": \"y\"}, {\"hovertemplate\": \"color=TCC<br>x=%{x}<br>y=%{y}<br>size=%{marker.size}<extra></extra>\", \"legendgroup\": \"TCC\", \"marker\": {\"color\": \"#00cc96\", \"size\": [2], \"sizemode\": \"area\", \"sizeref\": 0.005, \"symbol\": \"circle\"}, \"mode\": \"markers\", \"name\": \"TCC\", \"orientation\": \"v\", \"showlegend\": true, \"type\": \"scatter\", \"x\": [\"TCC\"], \"xaxis\": \"x\", \"y\": [0.01277102630362757], \"yaxis\": \"y\"}, {\"hovertemplate\": \"color=TCA<br>x=%{x}<br>y=%{y}<br>size=%{marker.size}<extra></extra>\", \"legendgroup\": \"TCA\", \"marker\": {\"color\": \"#ab63fa\", \"size\": [2], \"sizemode\": \"area\", \"sizeref\": 0.005, \"symbol\": \"circle\"}, \"mode\": \"markers\", \"name\": \"TCA\", \"orientation\": \"v\", \"showlegend\": true, \"type\": \"scatter\", \"x\": [\"TCA\"], \"xaxis\": \"x\", \"y\": [0.01322016025620163], \"yaxis\": \"y\"}, {\"hovertemplate\": \"color=TCG<br>x=%{x}<br>y=%{y}<br>size=%{marker.size}<extra></extra>\", \"legendgroup\": \"TCG\", \"marker\": {\"color\": \"#FFA15A\", \"size\": [2], \"sizemode\": \"area\", \"sizeref\": 0.005, \"symbol\": \"circle\"}, \"mode\": \"markers\", \"name\": \"TCG\", \"orientation\": \"v\", \"showlegend\": true, \"type\": \"scatter\", \"x\": [\"TCG\"], \"xaxis\": \"x\", \"y\": [0.01661144705752169], \"yaxis\": \"y\"}, {\"hovertemplate\": \"color=AGT<br>x=%{x}<br>y=%{y}<br>size=%{marker.size}<extra></extra>\", \"legendgroup\": \"AGT\", \"marker\": {\"color\": \"#19d3f3\", \"size\": [2], \"sizemode\": \"area\", \"sizeref\": 0.005, \"symbol\": \"circle\"}, \"mode\": \"markers\", \"name\": \"AGT\", \"orientation\": \"v\", \"showlegend\": true, \"type\": \"scatter\", \"x\": [\"AGT\"], \"xaxis\": \"x\", \"y\": [0.009438322191773688], \"yaxis\": \"y\"}, {\"hovertemplate\": \"color=AGC<br>x=%{x}<br>y=%{y}<br>size=%{marker.size}<extra></extra>\", \"legendgroup\": \"AGC\", \"marker\": {\"color\": \"#FF6692\", \"size\": [2], \"sizemode\": \"area\", \"sizeref\": 0.005, \"symbol\": \"circle\"}, \"mode\": \"markers\", \"name\": \"AGC\", \"orientation\": \"v\", \"showlegend\": true, \"type\": \"scatter\", \"x\": [\"AGC\"], \"xaxis\": \"x\", \"y\": [0.01319412350532777], \"yaxis\": \"y\"}, {\"hovertemplate\": \"color=TTA<br>x=%{x}<br>y=%{y}<br>size=%{marker.size}<extra></extra>\", \"legendgroup\": \"TTA\", \"marker\": {\"color\": \"#B6E880\", \"size\": [2], \"sizemode\": \"area\", \"sizeref\": 0.005, \"symbol\": \"circle\"}, \"mode\": \"markers\", \"name\": \"TTA\", \"orientation\": \"v\", \"showlegend\": true, \"type\": \"scatter\", \"x\": [\"TTA\"], \"xaxis\": \"x\", \"y\": [0.009692180512793809], \"yaxis\": \"y\"}, {\"hovertemplate\": \"color=TTG<br>x=%{x}<br>y=%{y}<br>size=%{marker.size}<extra></extra>\", \"legendgroup\": \"TTG\", \"marker\": {\"color\": \"#FF97FF\", \"size\": [2], \"sizemode\": \"area\", \"sizeref\": 0.005, \"symbol\": \"circle\"}, \"mode\": \"markers\", \"name\": \"TTG\", \"orientation\": \"v\", \"showlegend\": true, \"type\": \"scatter\", \"x\": [\"TTG\"], \"xaxis\": \"x\", \"y\": [0.038065729777581055], \"yaxis\": \"y\"}, {\"hovertemplate\": \"color=CTT<br>x=%{x}<br>y=%{y}<br>size=%{marker.size}<extra></extra>\", \"legendgroup\": \"CTT\", \"marker\": {\"color\": \"#FECB52\", \"size\": [2], \"sizemode\": \"area\", \"sizeref\": 0.005, \"symbol\": \"circle\"}, \"mode\": \"markers\", \"name\": \"CTT\", \"orientation\": \"v\", \"showlegend\": true, \"type\": \"scatter\", \"x\": [\"CTT\"], \"xaxis\": \"x\", \"y\": [0.018805043318644268], \"yaxis\": \"y\"}, {\"hovertemplate\": \"color=CTC<br>x=%{x}<br>y=%{y}<br>size=%{marker.size}<extra></extra>\", \"legendgroup\": \"CTC\", \"marker\": {\"color\": \"#636efa\", \"size\": [2], \"sizemode\": \"area\", \"sizeref\": 0.005, \"symbol\": \"circle\"}, \"mode\": \"markers\", \"name\": \"CTC\", \"orientation\": \"v\", \"showlegend\": true, \"type\": \"scatter\", \"x\": [\"CTC\"], \"xaxis\": \"x\", \"y\": [0.018056486731020834], \"yaxis\": \"y\"}, {\"hovertemplate\": \"color=CTA<br>x=%{x}<br>y=%{y}<br>size=%{marker.size}<extra></extra>\", \"legendgroup\": \"CTA\", \"marker\": {\"color\": \"#EF553B\", \"size\": [2], \"sizemode\": \"area\", \"sizeref\": 0.005, \"symbol\": \"circle\"}, \"mode\": \"markers\", \"name\": \"CTA\", \"orientation\": \"v\", \"showlegend\": true, \"type\": \"scatter\", \"x\": [\"CTA\"], \"xaxis\": \"x\", \"y\": [0.008019319269148404], \"yaxis\": \"y\"}, {\"mode\": \"text\", \"text\": [\"Shared codon\", \"Serine codons\", \"Leucine codons\"], \"type\": \"scatter\", \"x\": [\"CTG\", \"TCC\", \"TTG\"], \"y\": [0.05, 0.05, 0.05]}],                        {\"legend\": {\"itemsizing\": \"constant\", \"title\": {\"text\": \"Codon\"}, \"tracegroupgap\": 0}, \"shapes\": [{\"line\": {\"color\": \"MediumPurple\", \"width\": 3}, \"type\": \"line\", \"x0\": 0.68, \"x1\": 0.68, \"y0\": 0, \"y1\": 0.055}, {\"line\": {\"color\": \"LightSeaGreen\", \"width\": 3}, \"type\": \"line\", \"x0\": 6.5, \"x1\": 6.5, \"y0\": 0, \"y1\": 0.055}], \"showlegend\": true, \"template\": {\"data\": {\"bar\": [{\"error_x\": {\"color\": \"#2a3f5f\"}, \"error_y\": {\"color\": \"#2a3f5f\"}, \"marker\": {\"line\": {\"color\": \"#E5ECF6\", \"width\": 0.5}}, \"type\": \"bar\"}], \"barpolar\": [{\"marker\": {\"line\": {\"color\": \"#E5ECF6\", \"width\": 0.5}}, \"type\": \"barpolar\"}], \"carpet\": [{\"aaxis\": {\"endlinecolor\": \"#2a3f5f\", \"gridcolor\": \"white\", \"linecolor\": \"white\", \"minorgridcolor\": \"white\", \"startlinecolor\": \"#2a3f5f\"}, \"baxis\": {\"endlinecolor\": \"#2a3f5f\", \"gridcolor\": \"white\", \"linecolor\": \"white\", \"minorgridcolor\": \"white\", \"startlinecolor\": \"#2a3f5f\"}, \"type\": \"carpet\"}], \"choropleth\": [{\"colorbar\": {\"outlinewidth\": 0, \"ticks\": \"\"}, \"type\": \"choropleth\"}], \"contour\": [{\"colorbar\": {\"outlinewidth\": 0, \"ticks\": \"\"}, \"colorscale\": [[0.0, \"#0d0887\"], [0.1111111111111111, \"#46039f\"], [0.2222222222222222, \"#7201a8\"], [0.3333333333333333, \"#9c179e\"], [0.4444444444444444, \"#bd3786\"], [0.5555555555555556, \"#d8576b\"], [0.6666666666666666, \"#ed7953\"], [0.7777777777777778, \"#fb9f3a\"], [0.8888888888888888, \"#fdca26\"], [1.0, \"#f0f921\"]], \"type\": \"contour\"}], \"contourcarpet\": [{\"colorbar\": {\"outlinewidth\": 0, \"ticks\": \"\"}, \"type\": \"contourcarpet\"}], \"heatmap\": [{\"colorbar\": {\"outlinewidth\": 0, \"ticks\": \"\"}, \"colorscale\": [[0.0, \"#0d0887\"], [0.1111111111111111, \"#46039f\"], [0.2222222222222222, \"#7201a8\"], [0.3333333333333333, \"#9c179e\"], [0.4444444444444444, \"#bd3786\"], [0.5555555555555556, \"#d8576b\"], [0.6666666666666666, \"#ed7953\"], [0.7777777777777778, \"#fb9f3a\"], [0.8888888888888888, \"#fdca26\"], [1.0, \"#f0f921\"]], \"type\": \"heatmap\"}], \"heatmapgl\": [{\"colorbar\": {\"outlinewidth\": 0, \"ticks\": \"\"}, \"colorscale\": [[0.0, \"#0d0887\"], [0.1111111111111111, \"#46039f\"], [0.2222222222222222, \"#7201a8\"], [0.3333333333333333, \"#9c179e\"], [0.4444444444444444, \"#bd3786\"], [0.5555555555555556, \"#d8576b\"], [0.6666666666666666, \"#ed7953\"], [0.7777777777777778, \"#fb9f3a\"], [0.8888888888888888, \"#fdca26\"], [1.0, \"#f0f921\"]], \"type\": \"heatmapgl\"}], \"histogram\": [{\"marker\": {\"colorbar\": {\"outlinewidth\": 0, \"ticks\": \"\"}}, \"type\": \"histogram\"}], \"histogram2d\": [{\"colorbar\": {\"outlinewidth\": 0, \"ticks\": \"\"}, \"colorscale\": [[0.0, \"#0d0887\"], [0.1111111111111111, \"#46039f\"], [0.2222222222222222, \"#7201a8\"], [0.3333333333333333, \"#9c179e\"], [0.4444444444444444, \"#bd3786\"], [0.5555555555555556, \"#d8576b\"], [0.6666666666666666, \"#ed7953\"], [0.7777777777777778, \"#fb9f3a\"], [0.8888888888888888, \"#fdca26\"], [1.0, \"#f0f921\"]], \"type\": \"histogram2d\"}], \"histogram2dcontour\": [{\"colorbar\": {\"outlinewidth\": 0, \"ticks\": \"\"}, \"colorscale\": [[0.0, \"#0d0887\"], [0.1111111111111111, \"#46039f\"], [0.2222222222222222, \"#7201a8\"], [0.3333333333333333, \"#9c179e\"], [0.4444444444444444, \"#bd3786\"], [0.5555555555555556, \"#d8576b\"], [0.6666666666666666, \"#ed7953\"], [0.7777777777777778, \"#fb9f3a\"], [0.8888888888888888, \"#fdca26\"], [1.0, \"#f0f921\"]], \"type\": \"histogram2dcontour\"}], \"mesh3d\": [{\"colorbar\": {\"outlinewidth\": 0, \"ticks\": \"\"}, \"type\": \"mesh3d\"}], \"parcoords\": [{\"line\": {\"colorbar\": {\"outlinewidth\": 0, \"ticks\": \"\"}}, \"type\": \"parcoords\"}], \"pie\": [{\"automargin\": true, \"type\": \"pie\"}], \"scatter\": [{\"marker\": {\"colorbar\": {\"outlinewidth\": 0, \"ticks\": \"\"}}, \"type\": \"scatter\"}], \"scatter3d\": [{\"line\": {\"colorbar\": {\"outlinewidth\": 0, \"ticks\": \"\"}}, \"marker\": {\"colorbar\": {\"outlinewidth\": 0, \"ticks\": \"\"}}, \"type\": \"scatter3d\"}], \"scattercarpet\": [{\"marker\": {\"colorbar\": {\"outlinewidth\": 0, \"ticks\": \"\"}}, \"type\": \"scattercarpet\"}], \"scattergeo\": [{\"marker\": {\"colorbar\": {\"outlinewidth\": 0, \"ticks\": \"\"}}, \"type\": \"scattergeo\"}], \"scattergl\": [{\"marker\": {\"colorbar\": {\"outlinewidth\": 0, \"ticks\": \"\"}}, \"type\": \"scattergl\"}], \"scattermapbox\": [{\"marker\": {\"colorbar\": {\"outlinewidth\": 0, \"ticks\": \"\"}}, \"type\": \"scattermapbox\"}], \"scatterpolar\": [{\"marker\": {\"colorbar\": {\"outlinewidth\": 0, \"ticks\": \"\"}}, \"type\": \"scatterpolar\"}], \"scatterpolargl\": [{\"marker\": {\"colorbar\": {\"outlinewidth\": 0, \"ticks\": \"\"}}, \"type\": \"scatterpolargl\"}], \"scatterternary\": [{\"marker\": {\"colorbar\": {\"outlinewidth\": 0, \"ticks\": \"\"}}, \"type\": \"scatterternary\"}], \"surface\": [{\"colorbar\": {\"outlinewidth\": 0, \"ticks\": \"\"}, \"colorscale\": [[0.0, \"#0d0887\"], [0.1111111111111111, \"#46039f\"], [0.2222222222222222, \"#7201a8\"], [0.3333333333333333, \"#9c179e\"], [0.4444444444444444, \"#bd3786\"], [0.5555555555555556, \"#d8576b\"], [0.6666666666666666, \"#ed7953\"], [0.7777777777777778, \"#fb9f3a\"], [0.8888888888888888, \"#fdca26\"], [1.0, \"#f0f921\"]], \"type\": \"surface\"}], \"table\": [{\"cells\": {\"fill\": {\"color\": \"#EBF0F8\"}, \"line\": {\"color\": \"white\"}}, \"header\": {\"fill\": {\"color\": \"#C8D4E3\"}, \"line\": {\"color\": \"white\"}}, \"type\": \"table\"}]}, \"layout\": {\"annotationdefaults\": {\"arrowcolor\": \"#2a3f5f\", \"arrowhead\": 0, \"arrowwidth\": 1}, \"coloraxis\": {\"colorbar\": {\"outlinewidth\": 0, \"ticks\": \"\"}}, \"colorscale\": {\"diverging\": [[0, \"#8e0152\"], [0.1, \"#c51b7d\"], [0.2, \"#de77ae\"], [0.3, \"#f1b6da\"], [0.4, \"#fde0ef\"], [0.5, \"#f7f7f7\"], [0.6, \"#e6f5d0\"], [0.7, \"#b8e186\"], [0.8, \"#7fbc41\"], [0.9, \"#4d9221\"], [1, \"#276419\"]], \"sequential\": [[0.0, \"#0d0887\"], [0.1111111111111111, \"#46039f\"], [0.2222222222222222, \"#7201a8\"], [0.3333333333333333, \"#9c179e\"], [0.4444444444444444, \"#bd3786\"], [0.5555555555555556, \"#d8576b\"], [0.6666666666666666, \"#ed7953\"], [0.7777777777777778, \"#fb9f3a\"], [0.8888888888888888, \"#fdca26\"], [1.0, \"#f0f921\"]], \"sequentialminus\": [[0.0, \"#0d0887\"], [0.1111111111111111, \"#46039f\"], [0.2222222222222222, \"#7201a8\"], [0.3333333333333333, \"#9c179e\"], [0.4444444444444444, \"#bd3786\"], [0.5555555555555556, \"#d8576b\"], [0.6666666666666666, \"#ed7953\"], [0.7777777777777778, \"#fb9f3a\"], [0.8888888888888888, \"#fdca26\"], [1.0, \"#f0f921\"]]}, \"colorway\": [\"#636efa\", \"#EF553B\", \"#00cc96\", \"#ab63fa\", \"#FFA15A\", \"#19d3f3\", \"#FF6692\", \"#B6E880\", \"#FF97FF\", \"#FECB52\"], \"font\": {\"color\": \"#2a3f5f\"}, \"geo\": {\"bgcolor\": \"white\", \"lakecolor\": \"white\", \"landcolor\": \"#E5ECF6\", \"showlakes\": true, \"showland\": true, \"subunitcolor\": \"white\"}, \"hoverlabel\": {\"align\": \"left\"}, \"hovermode\": \"closest\", \"mapbox\": {\"style\": \"light\"}, \"paper_bgcolor\": \"white\", \"plot_bgcolor\": \"#E5ECF6\", \"polar\": {\"angularaxis\": {\"gridcolor\": \"white\", \"linecolor\": \"white\", \"ticks\": \"\"}, \"bgcolor\": \"#E5ECF6\", \"radialaxis\": {\"gridcolor\": \"white\", \"linecolor\": \"white\", \"ticks\": \"\"}}, \"scene\": {\"xaxis\": {\"backgroundcolor\": \"#E5ECF6\", \"gridcolor\": \"white\", \"gridwidth\": 2, \"linecolor\": \"white\", \"showbackground\": true, \"ticks\": \"\", \"zerolinecolor\": \"white\"}, \"yaxis\": {\"backgroundcolor\": \"#E5ECF6\", \"gridcolor\": \"white\", \"gridwidth\": 2, \"linecolor\": \"white\", \"showbackground\": true, \"ticks\": \"\", \"zerolinecolor\": \"white\"}, \"zaxis\": {\"backgroundcolor\": \"#E5ECF6\", \"gridcolor\": \"white\", \"gridwidth\": 2, \"linecolor\": \"white\", \"showbackground\": true, \"ticks\": \"\", \"zerolinecolor\": \"white\"}}, \"shapedefaults\": {\"line\": {\"color\": \"#2a3f5f\"}}, \"ternary\": {\"aaxis\": {\"gridcolor\": \"white\", \"linecolor\": \"white\", \"ticks\": \"\"}, \"baxis\": {\"gridcolor\": \"white\", \"linecolor\": \"white\", \"ticks\": \"\"}, \"bgcolor\": \"#E5ECF6\", \"caxis\": {\"gridcolor\": \"white\", \"linecolor\": \"white\", \"ticks\": \"\"}}, \"title\": {\"x\": 0.05}, \"xaxis\": {\"automargin\": true, \"gridcolor\": \"white\", \"linecolor\": \"white\", \"ticks\": \"\", \"title\": {\"standoff\": 15}, \"zerolinecolor\": \"white\", \"zerolinewidth\": 2}, \"yaxis\": {\"automargin\": true, \"gridcolor\": \"white\", \"linecolor\": \"white\", \"ticks\": \"\", \"title\": {\"standoff\": 15}, \"zerolinecolor\": \"white\", \"zerolinewidth\": 2}}}, \"title\": {\"text\": \"Graph to show the frequency of codons used for Serine and Leucines in a Yeast genome\"}, \"xaxis\": {\"anchor\": \"y\", \"domain\": [0.0, 1.0], \"title\": {\"text\": \"Codon base in Yeast genes\"}, \"type\": \"category\"}, \"yaxis\": {\"anchor\": \"x\", \"domain\": [0.0, 1.0], \"title\": {\"text\": \"Frequency of codon againist total codons %\"}}},                        {\"responsive\": true}                    ).then(function(){\n",
       "                            \n",
       "var gd = document.getElementById('395c7c47-f5df-4aec-8ed1-c65284099b30');\n",
       "var x = new MutationObserver(function (mutations, observer) {{\n",
       "        var display = window.getComputedStyle(gd).display;\n",
       "        if (!display || display === 'none') {{\n",
       "            console.log([gd, 'removed!']);\n",
       "            Plotly.purge(gd);\n",
       "            observer.disconnect();\n",
       "        }}\n",
       "}});\n",
       "\n",
       "// Listen for the removal of the full notebook cells\n",
       "var notebookContainer = gd.closest('#notebook-container');\n",
       "if (notebookContainer) {{\n",
       "    x.observe(notebookContainer, {childList: true});\n",
       "}}\n",
       "\n",
       "// Listen for the clearing of the current output cell\n",
       "var outputEl = gd.closest('.output');\n",
       "if (outputEl) {{\n",
       "    x.observe(outputEl, {childList: true});\n",
       "}}\n",
       "\n",
       "                        })                };                });            </script>        </div>"
      ]
     },
     "metadata": {},
     "output_type": "display_data"
    }
   ],
   "source": [
    "#plot all the data onto a figure \n",
    "\n",
    "fig = px.scatter(\n",
    "    x=codon_ord_list, \n",
    "    y=percentage_freqs,\n",
    "    color = codon_ord_list,\n",
    "    size = [2,2,2,2,2,2,2,2,2,2,2,2],\n",
    "    title = 'Graph to show the frequency of codons used for Serine and Leucines in a Yeast genome'\n",
    ")\n",
    "\n",
    "fig.update_layout(showlegend=True, \n",
    "                  xaxis_type='category', xaxis_title='Codon base in Yeast genes',\n",
    "                 yaxis_title='Frequency of codon againist total codons %',\n",
    "                 legend_title='Codon') \n",
    "\n",
    "#adding a vertical line to sepearate data based on serine or leucine\n",
    "\n",
    "fig.add_shape(\n",
    "dict(\n",
    "    type = 'line', \n",
    "x0 = 0.68,\n",
    "y0 = 0,\n",
    "x1 = 0.68,\n",
    "y1 = 0.055,\n",
    "    line = dict( \n",
    "    color = 'MediumPurple',\n",
    "    width = 3)\n",
    "))\n",
    "\n",
    "#adding a vertical line  to sepearate data based on serine or leucine\n",
    "\n",
    "fig.add_shape(\n",
    "dict(\n",
    "    type = 'line', \n",
    "x0 = 6.5,\n",
    "y0 = 0,\n",
    "x1 = 6.5,\n",
    "y1 = 0.055,\n",
    "    line = dict( \n",
    "    color = 'LightSeaGreen',\n",
    "    width = 3)\n",
    "))\n",
    "\n",
    "# Create scatter trace of text labels\n",
    "\n",
    "fig.add_trace(go.Scatter(\n",
    "    x=['CTG','TCC', 'TTG'],\n",
    "    y=[0.05, 0.05, 0.05],\n",
    "    text=['Shared codon',\n",
    "          \"Serine codons\",\n",
    "          \"Leucine codons\"],\n",
    "    mode=\"text\"\n",
    "))"
   ]
  },
  {
   "cell_type": "code",
   "execution_count": null,
   "metadata": {},
   "outputs": [],
   "source": []
  }
 ],
 "metadata": {
  "kernelspec": {
   "display_name": "Python 3",
   "language": "python",
   "name": "python3"
  },
  "language_info": {
   "codemirror_mode": {
    "name": "ipython",
    "version": 3
   },
   "file_extension": ".py",
   "mimetype": "text/x-python",
   "name": "python",
   "nbconvert_exporter": "python",
   "pygments_lexer": "ipython3",
   "version": "3.8.3"
  }
 },
 "nbformat": 4,
 "nbformat_minor": 4
}
